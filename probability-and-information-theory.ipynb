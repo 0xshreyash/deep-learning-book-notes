{
 "cells": [
  {
   "cell_type": "code",
   "execution_count": null,
   "metadata": {},
   "outputs": [],
   "source": []
  },
  {
   "cell_type": "markdown",
   "metadata": {},
   "source": [
    "# Probablity and Information Theory \n",
    "\n",
    "## Exponential and Laplace Distribution\n",
    "\n",
    "In deep learning we often want to have a probablity distribution with a sharp point at x = 0. The exponential distribution provides us with the machinery to be able to do this. We define the distribution as:\n",
    "\n",
    "$ p(x; \\lambda) = \\lambda \\boldsymbol{1}_{x \\ge 0} \\exp(-\\lambda x) $\n",
    "\n",
    "A closely related distribution probability distribution that allows to place a sharp peak of probablity mass at an arbitraty point $\\mu$ is the __Laplace Distribution__\n",
    "\n",
    "$ Laplace(x; \\mu, \\gamma) = \\dfrac{1}{2\\gamma} \\exp(-\\dfrac{|x - \\mu|}{\\gamma}) $\n",
    "\n",
    "## The Dirac Distribution and the Emperical Distribution\n",
    "\n",
    "In some cases we wish to specify that all mass in a probablity distribution clusters around a single point. This can be accomplished using a PDF using the __Dirac delta function__:\n",
    "\n",
    "$ p(x) = \\delta(x - \\mu)$\n",
    "\n",
    "This p(x) will be such that it will be 0 valued everywhere except at $ x = \\mu $.\n",
    "\n",
    "A common use of the Dirac delta function distribution is as a component of an __emperical distribution__.\n",
    "\n",
    "### Emperical Distribution motivation\n",
    "\n",
    "Consider a situation where we have iid data $x_{i}$ from some unknown distribution. One problem of\n",
    "interest is estimating the distribution that is generating the data. There are many useful examples\n",
    "of this abstract problem, including:\n",
    "\n",
    "* We are analyzing a telephone call center, and we measure the amount of time required to provide service to each incoming phone call. Though an exponential distribution is a commonly used model, it can be useful to estimate the distribution of the call lengths to help validate the use of an exponential distribution model. In some cases, we may find by using the data that an exponential distribution is not a good model.\n",
    "\n",
    "* We are analyzing midterm scores within a class, and would like to gain a better understanding of how well the class scored on the exam\n",
    "\n",
    "Within the problem of estimating the distribution using iid $x_{i}$, there are two distinct problems:\n",
    "\n",
    "1. Estimate the cdf Fx(u).\n",
    "2. Estimate the pdf fx(u).\n",
    "\n",
    "We will consider each of these problems. We will drop the x subscript to simply the notation.\n",
    "\n",
    "means that with probability 1 the discrepancy between Fˆ(u) and F(u) goes to 0.\n",
    "\n",
    "\n",
    "## Things to remember about sigmoid and softplus functions\n",
    "\n",
    "* $\\sigma(x) = \\dfrac{\\exp(x)}{\\exp(x) + \\exp(0)}$\n",
    "* $\\dfrac{d\\sigma(x)}{dx} = \\sigma(x)(1 - \\sigma(x))$\n",
    "* $1 - \\sigma(x) = \\sigma(-x)$\n",
    "* $log \\sigma(x) =  -\\varsigma(-x)$\n",
    "* $\\dfrac{d\\varsigma(x)}{dx} = \\sigma(x)$ \n",
    "* $\\forall x \\in (0, 1), \\sigma^{-1}(x)  = log(\\dfrac{x}{1 - x})$\n",
    "* $\\forall x \\ge 0, \\varsigma^{-1}(x)  = log(\\exp(x) - 1)$\n",
    "* $\\varsigma(x) = \\int_{-\\infty}^{x}\\sigma(y) dy$\n",
    "* $\\varsigma(x) - \\varsigma(-x) = x$"
   ]
  },
  {
   "cell_type": "code",
   "execution_count": null,
   "metadata": {},
   "outputs": [],
   "source": []
  },
  {
   "cell_type": "code",
   "execution_count": null,
   "metadata": {},
   "outputs": [],
   "source": [
    "\n",
    "     1c v"
   ]
  }
 ],
 "metadata": {
  "kernelspec": {
   "display_name": "Python 3",
   "language": "python",
   "name": "python3"
  },
  "language_info": {
   "codemirror_mode": {
    "name": "ipython",
    "version": 3
   },
   "file_extension": ".py",
   "mimetype": "text/x-python",
   "name": "python",
   "nbconvert_exporter": "python",
   "pygments_lexer": "ipython3",
   "version": "3.7.1"
  }
 },
 "nbformat": 4,
 "nbformat_minor": 2
}
