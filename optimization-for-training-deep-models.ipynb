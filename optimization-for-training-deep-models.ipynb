{
 "cells": [
  {
   "cell_type": "markdown",
   "metadata": {
    "hide_input": true
   },
   "source": [
    "# Optimization for Training Deep Models\n",
    "\n",
    "Neural Network training is the most difficult optmization problem involved in deep learning. Owing to this diffculty of training neural networks a specialized of optimization techniques have been developed for solving it. We are concerned with finding parameters $\\theta$ that greatly reduce a cost function $J(\\theta)$ (which includes a performance measure on the entier training set as well as additional regularization terms).\n",
    "\n",
    "## 8.1 How Learning Differs from Pure Optimization\n",
    "\n",
    "In machine learning we care about optimizing a performance measure $P$ that is defined in terms of a test set and mat also be intractable. Therefore, we reduce a different cost function $J(\\theta)$ in hope that doing so will improve $P$. This is in contrast to pure optimization where minimizing $J$ is the goal in and of itself. Optimization algorithms for training deep models also include some specialization on the specific structure of machine learning objective f unctions. The cost function can be written as:\n",
    "\n",
    "$$J(\\theta) =  \\mathbb{E}_{(x, y)\\sim\\hat{p}_{data}}L(f(x; \\theta), y)$$\n",
    "\n",
    "where $L$ is the per example loss function, $f(x; \\theta)$ is the predicted output when the input is $x$, $\\hat{p}_{data}$ is the emperical distribution and $y$ is the target output in the supervised learning case. In general we would prefer to minimize the objective function where the expectation is taken across the _data-generating distribution_ $p_{data}$ rather than the _emperical distribution_ defined over the finite training set.\n",
    "\n",
    "### 8.1.1 Emperical Risk Minimization\n",
    "\n",
    "The goal of machine learning is to minimize the expected generalization error over the data generating distribution (this quantity is known as __risk__). If $p_{data}$ was know known then risk minimization would be an optimization problem. When we only have $\\hat{p}_{data}$ we have a machine learning problem on our hands. We can convert a machine learning problem back to an optimization problem by optimizing over the emperical distributuion maximizing over the __emperical risk__ via a process called __emperical risk minimization__. But emperical risk minimization suffers from the following issues:\n",
    "\n",
    "* It is prone to overfitting the training set.\n",
    "\n",
    "* It might not be feasible in certain cases (such as when the derivatives of a loss function e.g. 0-1 loss aren't meaningful).\n",
    "\n",
    "### 8.1.2 Surrogate Loss Function and Early Stopping\n",
    "\n",
    "Due to the fact that the loss function we actually care about (say, classification error on the test set) is sometimes difficult to optimize we optimize what is called a __surrogate loss function__ instead. The negative log-likelihood is typically used as a surrogate for 0-1 loss. The negative log-likelihood allows the model to estimate the conditioanl probablity of the classes given the input and if the model can do that well then it can pick the classes that yield the least classification error in expectation. \n"
   ]
  },
  {
   "cell_type": "code",
   "execution_count": 2,
   "metadata": {
    "ExecuteTime": {
     "end_time": "2019-06-26T00:39:05.896458Z",
     "start_time": "2019-06-26T00:39:04.474765Z"
    },
    "hide_input": false
   },
   "outputs": [
    {
     "data": {
      "image/png": "[encoded data removed]",
      "text/plain": [
       "<Figure size 432x288 with 1 Axes>"
      ]
     },
     "metadata": {
      "needs_background": "light"
     },
     "output_type": "display_data"
    },
    {
     "data": {
      "image/png": "[encoded data removed]",
      "text/plain": [
       "<Figure size 432x288 with 1 Axes>"
      ]
     },
     "metadata": {
      "needs_background": "light"
     },
     "output_type": "display_data"
    }
   ],
   "source": [
    "from matplotlib import pyplot as plt\n",
    "%matplotlib inline\n",
    "from sklearn.metrics import zero_one_loss, log_loss\n",
    "import numpy as np\n",
    "\n",
    "num_points = 1000\n",
    "# define a 1000 copies of the same data point such that we can compare zero_one_loss and log_loss for different prediction made for the same point\n",
    "y_true = np.zeros(num_points, dtype='float32')\n",
    "# define predictions for each of the 1000 values such that the predictions increase from 0 to 1 in an AP\n",
    "preds = np.linspace(start=0.0, stop=1.0, num=num_points)\n",
    "\n",
    "# compute loss for each (true label, prediction) pair\n",
    "zero_one_values, log_loss_values = [], []\n",
    "for i in range(num_points):\n",
    "    zero_one_values.append(zero_one_loss([y_true[i]], [preds[i] > 0.5]))\n",
    "    log_loss_values.append(log_loss([y_true[i]], [preds[i]], labels=[0, 1]))\n",
    "\n",
    "\n",
    "def plot_values(preds, zero_one_values, log_loss_values):\n",
    "    plt.title('Log loss vs 0-1 loss')\n",
    "    plt.xlabel('Predicted Values')\n",
    "    plt.ylabel('Loss Value')\n",
    "    plt.plot(preds, zero_one_values, label='0-1 loss')\n",
    "    plt.plot(preds, log_loss_values, label='log loss')\n",
    "    plt.legend()\n",
    "    plt.show()\n",
    "\n",
    "    \n",
    "plot_values(preds, zero_one_values, log_loss_values)\n",
    "\n",
    "# Now we see in the first image that the value of log loss rightly asymptotes to infinity when prediction is 1 and the true class label is 0. This makes the plot slightly hard to read so let's try to get rid of the last 100 values in all the arrays and plot again.\n",
    "\n",
    "plot_values(preds[:900], zero_one_values[:900], log_loss_values[:900])\n",
    "\n"
   ]
  },
  {
   "cell_type": "markdown",
   "metadata": {},
   "source": [
    "Now we see in the first image that the value of log loss rightly asymptotes to infinity when the prediction is 1 and the true class label is 0. This makes the plot slightly hard to read so we got rid of the last 100 values and plotted everything again. This graph is much neater and shows us how the log-loss function has a much more meaningful gradient than 0-1 loss. This also shows us that we can sometimes learn more using a surrogate loss function. Here as our predicted value goes below 0.5 the 0-1 loss becomes zero meaning that an algorithm would predict not know that that there is any difference in predicting 0.49 vs predicting 0.0 even when the true class is 0. The log-loss function allows us to make our model more robust by moving the predictions closer to the true value despite a model possibly making the correct prediction.\n",
    "\n",
    "Another thing to note is that optimization in machine learning doesn't necessarily halt at a local minimum rather it halts whenever a convergence criteria (based on early stopping) is satisfied. This convergence criterion is generally based on the true underlying loss function and not on the surrogate loss function.\n",
    "\n",
    "\n",
    "### 8.1.3 Batch and Minibatch Algorithms\n",
    "\n",
    "Objective functions in machine learning usually decompose as a sum over the training examples. Optimization algorithms for machine learning compute each update to the parameters based on an expected value of the cost function estimated using only a subset of the terms of the cost functions (a subset of the elements in the training set. This is because finding the best parameters (that maximize a log-likelihood) can be looked at as finding the parameters that maximise the expectation of the probablity of getting a $y$ for the input $x, \\theta$. "
   ]
  },
  {
   "cell_type": "code",
   "execution_count": null,
   "metadata": {},
   "outputs": [],
   "source": []
  }
 ],
 "metadata": {
  "kernelspec": {
   "display_name": "Python 3",
   "language": "python",
   "name": "python3"
  },
  "language_info": {
   "codemirror_mode": {
    "name": "ipython",
    "version": 3
   },
   "file_extension": ".py",
   "mimetype": "text/x-python",
   "name": "python",
   "nbconvert_exporter": "python",
   "pygments_lexer": "ipython3",
   "version": "3.7.3"
  },
  "toc": {
   "base_numbering": 1,
   "nav_menu": {},
   "number_sections": true,
   "sideBar": true,
   "skip_h1_title": false,
   "title_cell": "Table of Contents",
   "title_sidebar": "Contents",
   "toc_cell": false,
   "toc_position": {},
   "toc_section_display": true,
   "toc_window_display": false
  },
  "varInspector": {
   "cols": {
    "lenName": 16,
    "lenType": 16,
    "lenVar": 40
   },
   "kernels_config": {
    "python": {
     "delete_cmd_postfix": "",
     "delete_cmd_prefix": "del ",
     "library": "var_list.py",
     "varRefreshCmd": "print(var_dic_list())"
    },
    "r": {
     "delete_cmd_postfix": ") ",
     "delete_cmd_prefix": "rm(",
     "library": "var_list.r",
     "varRefreshCmd": "cat(var_dic_list()) "
    }
   },
   "types_to_exclude": [
    "module",
    "function",
    "builtin_function_or_method",
    "instance",
    "_Feature"
   ],
   "window_display": true
  }
 },
 "nbformat": 4,
 "nbformat_minor": 2
}
